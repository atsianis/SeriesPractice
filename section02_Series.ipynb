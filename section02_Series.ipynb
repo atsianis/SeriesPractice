{
 "cells": [
  {
   "cell_type": "code",
   "execution_count": 2,
   "id": "b2d1c5b7",
   "metadata": {},
   "outputs": [],
   "source": [
    "# import libraries needed\n",
    "import numpy as np\n",
    "import pandas as pd"
   ]
  },
  {
   "cell_type": "markdown",
   "id": "31a24d50",
   "metadata": {},
   "source": [
    "# Assignment 1: Series Basics\n",
    "\n",
    "The code has been previded to create an array, `oil_array` from a dataframe column. \n",
    "\n",
    "* Convert `oil_array` into a Pandas Series, called `oil_series`. Give it a name!\n",
    "* Return the name, dtype, size, and index of `oil_series`.\n",
    "\n",
    "Take the mean of the values array. \n",
    "\n",
    "Then, convert the series to integer datatype and recalculate the mean. \n"
   ]
  },
  {
   "cell_type": "code",
   "execution_count": 10,
   "id": "df36e3d6",
   "metadata": {},
   "outputs": [
    {
     "data": {
      "text/plain": [
       "array([52.22, 51.44, 51.98, 52.01, 52.82, 54.01, 53.8 , 53.75, 52.36,\n",
       "       53.26, 53.77, 53.98, 51.95, 50.82, 52.19, 53.01, 52.36, 52.45,\n",
       "       51.12, 51.39, 52.33, 52.77, 52.38, 52.14, 53.24, 53.18, 52.63,\n",
       "       52.75, 53.9 , 53.55, 53.81, 53.01, 52.19, 52.37, 52.99, 53.84,\n",
       "       52.96, 53.21, 53.11, 53.41, 53.41, 54.02, 53.61, 54.48, 53.99,\n",
       "       54.04, 54.  , 53.82, 52.63, 53.33, 53.19, 52.68, 49.83, 48.75,\n",
       "       48.05, 47.95, 47.24, 48.34, 48.3 , 48.34, 47.79, 47.02, 47.29,\n",
       "       47.  , 47.3 , 47.02, 48.36, 49.47, 50.3 , 50.54, 50.25, 50.99,\n",
       "       51.14, 51.69, 52.25, 53.06, 53.38, 53.12, 53.19, 52.62, 52.46,\n",
       "       50.49, 50.26, 49.64, 48.9 , 49.22, 49.22, 48.96, 49.31, 48.83,\n",
       "       47.65, 47.79, 45.55, 46.23, 46.46, 45.84, 47.28, 47.81, 47.83,\n",
       "       48.86])"
      ]
     },
     "execution_count": 10,
     "metadata": {},
     "output_type": "execute_result"
    }
   ],
   "source": [
    "# create a DataFrame from the oil file, drop missing values\n",
    "oil = pd.read_csv(\"../../retail/oil.csv\").dropna()\n",
    "\n",
    "# Grab 100 rows of oil prices\n",
    "oil_array = np.array(oil[\"dcoilwtico\"].iloc[1000:1100])\n",
    "\n",
    "oil_array"
   ]
  },
  {
   "cell_type": "code",
   "execution_count": 12,
   "id": "fc70abd0",
   "metadata": {},
   "outputs": [
    {
     "name": "stdout",
     "output_type": "stream",
     "text": [
      "Name: OilSeries\n",
      "Data Tyepe: float64\n",
      "Size: 100\n",
      "Index: RangeIndex(start=0, stop=100, step=1)\n"
     ]
    }
   ],
   "source": [
    "oil_series = pd.Series(oil_array, name = \"OilSeries\")\n",
    "print(f\"Name: {oil_series.name}\")\n",
    "print(f\"Data Tyepe: {oil_series.dtype}\")\n",
    "print(f\"Size: {oil_series.size}\")\n",
    "print(f\"Index: {oil_series.index}\")"
   ]
  },
  {
   "cell_type": "code",
   "execution_count": 14,
   "id": "54190e1a",
   "metadata": {},
   "outputs": [
    {
     "data": {
      "text/plain": [
       "51.128299999999996"
      ]
     },
     "execution_count": 14,
     "metadata": {},
     "output_type": "execute_result"
    }
   ],
   "source": [
    "oil_series.values.mean()"
   ]
  },
  {
   "cell_type": "code",
   "execution_count": 16,
   "id": "7bf43cdc",
   "metadata": {},
   "outputs": [
    {
     "data": {
      "text/plain": [
       "50.66"
      ]
     },
     "execution_count": 16,
     "metadata": {},
     "output_type": "execute_result"
    }
   ],
   "source": [
    "oil_series.astype('int').values.mean()"
   ]
  },
  {
   "cell_type": "code",
   "execution_count": 18,
   "id": "96a0fb2a",
   "metadata": {},
   "outputs": [
    {
     "data": {
      "text/plain": [
       "51.128299999999996"
      ]
     },
     "execution_count": 18,
     "metadata": {},
     "output_type": "execute_result"
    }
   ],
   "source": [
    "oil_series.mean()"
   ]
  },
  {
   "cell_type": "code",
   "execution_count": null,
   "id": "1b6d11ee",
   "metadata": {},
   "outputs": [],
   "source": [
    "### don't need to explicitly call the values array"
   ]
  },
  {
   "cell_type": "code",
   "execution_count": null,
   "id": "d5bc48f2",
   "metadata": {},
   "outputs": [],
   "source": []
  },
  {
   "cell_type": "markdown",
   "id": "663f2bda",
   "metadata": {},
   "source": [
    "# Assignment 2:  Accessing Series Data\n",
    "\n",
    "* Set the date series, which has been created below, to be the index of the oil price series created in assignment 1.\n",
    "\n",
    "\n",
    "* Then, take the mean of the first 10 and last 10 prices of the series.\n",
    "\n",
    "\n",
    "* Finally, grab all oil prices from January 1st, 2017 - January 7th, 2017 (inclusive) and set the index to the default integer index."
   ]
  },
  {
   "cell_type": "code",
   "execution_count": 20,
   "id": "cad8001a",
   "metadata": {},
   "outputs": [],
   "source": [
    "# extract date column from oil DataFrame and grab first 100 rows\n",
    "\n",
    "dates = pd.Series(oil[\"date\"]).iloc[1000:1100]"
   ]
  },
  {
   "cell_type": "code",
   "execution_count": 24,
   "id": "49b55b99",
   "metadata": {},
   "outputs": [],
   "source": [
    "oil_series.index = dates"
   ]
  },
  {
   "cell_type": "code",
   "execution_count": 26,
   "id": "801aae04",
   "metadata": {},
   "outputs": [
    {
     "data": {
      "text/plain": [
       "date\n",
       "2016-12-20    52.22\n",
       "2016-12-21    51.44\n",
       "2016-12-22    51.98\n",
       "2016-12-23    52.01\n",
       "2016-12-27    52.82\n",
       "              ...  \n",
       "2017-05-09    45.84\n",
       "2017-05-10    47.28\n",
       "2017-05-11    47.81\n",
       "2017-05-12    47.83\n",
       "2017-05-15    48.86\n",
       "Name: OilSeries, Length: 100, dtype: float64"
      ]
     },
     "execution_count": 26,
     "metadata": {},
     "output_type": "execute_result"
    }
   ],
   "source": [
    "oil_series"
   ]
  },
  {
   "cell_type": "code",
   "execution_count": 30,
   "id": "44aa48a6",
   "metadata": {},
   "outputs": [
    {
     "data": {
      "text/plain": [
       "52.765"
      ]
     },
     "execution_count": 30,
     "metadata": {},
     "output_type": "execute_result"
    }
   ],
   "source": [
    "oil_series.iloc[:10].mean()"
   ]
  },
  {
   "cell_type": "code",
   "execution_count": 48,
   "id": "3f62e1ce",
   "metadata": {},
   "outputs": [
    {
     "data": {
      "text/plain": [
       "47.13"
      ]
     },
     "execution_count": 48,
     "metadata": {},
     "output_type": "execute_result"
    }
   ],
   "source": [
    "oil_series.iloc[-10:].mean()\n"
   ]
  },
  {
   "cell_type": "code",
   "execution_count": 46,
   "id": "2485f044",
   "metadata": {},
   "outputs": [
    {
     "data": {
      "text/plain": [
       "0    52.36\n",
       "1    53.26\n",
       "2    53.77\n",
       "3    53.98\n",
       "Name: OilSeries, dtype: float64"
      ]
     },
     "execution_count": 46,
     "metadata": {},
     "output_type": "execute_result"
    }
   ],
   "source": [
    "oil_series.loc[\"2017-01-01\":\"2017-01-07\"].reset_index(drop=True)\n"
   ]
  },
  {
   "cell_type": "markdown",
   "id": "deec0721",
   "metadata": {},
   "source": [
    "# Assignment 3: Sorting and Filtering Series\n",
    "\n",
    "* First, get the 10 lowest prices from the data. \n",
    "* Sort the 10 lowest prices by date, starting with the most recent and ending with the oldest price.\n",
    "\n",
    "* Finally, use the list of provided dates. Select only rows with these dates that had a price of less than 50 dollars per barrel."
   ]
  },
  {
   "cell_type": "code",
   "execution_count": 50,
   "id": "46126b3e",
   "metadata": {},
   "outputs": [],
   "source": [
    "# list of dates to be used to solve bullet 3\n",
    "\n",
    "dates = [\n",
    "    \"2016-12-22\",\n",
    "    \"2017-05-03\",\n",
    "    \"2017-01-06\",\n",
    "    \"2017-03-05\",\n",
    "    \"2017-02-12\",\n",
    "    \"2017-03-21\",\n",
    "    \"2017-04-14\",\n",
    "    \"2017-04-15\",\n",
    "]"
   ]
  },
  {
   "cell_type": "code",
   "execution_count": 54,
   "id": "2eecaa97",
   "metadata": {},
   "outputs": [
    {
     "data": {
      "text/plain": [
       "date\n",
       "2017-05-10    47.28\n",
       "2017-05-09    45.84\n",
       "2017-05-08    46.46\n",
       "2017-05-05    46.23\n",
       "2017-05-04    45.55\n",
       "2017-03-27    47.02\n",
       "2017-03-23    47.00\n",
       "2017-03-22    47.29\n",
       "2017-03-21    47.02\n",
       "2017-03-14    47.24\n",
       "Name: OilSeries, dtype: float64"
      ]
     },
     "execution_count": 54,
     "metadata": {},
     "output_type": "execute_result"
    }
   ],
   "source": [
    "oil_series.sort_values().iloc[:10].sort_index(ascending=False)"
   ]
  },
  {
   "cell_type": "code",
   "execution_count": 60,
   "id": "4864ae20",
   "metadata": {},
   "outputs": [
    {
     "data": {
      "text/plain": [
       "date\n",
       "2017-03-21    47.02\n",
       "2017-05-03    47.79\n",
       "Name: OilSeries, dtype: float64"
      ]
     },
     "execution_count": 60,
     "metadata": {},
     "output_type": "execute_result"
    }
   ],
   "source": [
    "mask = oil_series.index.isin(dates) & (oil_series < 50)\n",
    "oil_series.loc[mask]"
   ]
  },
  {
   "cell_type": "markdown",
   "id": "ce362e59",
   "metadata": {},
   "source": [
    "\n",
    "# Assignment 4: Series Operations\n",
    "\n",
    "* Increase the prices in the oil series by 10%, and add an additional 2 dollars per barrel on top of that.\n",
    "\n",
    "* Then, create a series that represents the difference between each price and max price.\n",
    "\n",
    "* Finally, extract the month from the string dates in the index and store them as an integer in their own series."
   ]
  },
  {
   "cell_type": "code",
   "execution_count": 62,
   "id": "38305859",
   "metadata": {},
   "outputs": [],
   "source": [
    "oil_series = oil_series * 1.1 + 2"
   ]
  },
  {
   "cell_type": "code",
   "execution_count": 64,
   "id": "0f92574f",
   "metadata": {},
   "outputs": [],
   "source": [
    "max = oil_series.max()"
   ]
  },
  {
   "cell_type": "code",
   "execution_count": 68,
   "id": "98b673c0",
   "metadata": {},
   "outputs": [],
   "source": [
    "max_diff = max - oil_series #broadcasting"
   ]
  },
  {
   "cell_type": "code",
   "execution_count": 70,
   "id": "0cbd5306",
   "metadata": {},
   "outputs": [
    {
     "data": {
      "text/plain": [
       "date\n",
       "2016-12-20    2.486\n",
       "2016-12-21    3.344\n",
       "2016-12-22    2.750\n",
       "2016-12-23    2.717\n",
       "2016-12-27    1.826\n",
       "              ...  \n",
       "2017-05-09    9.504\n",
       "2017-05-10    7.920\n",
       "2017-05-11    7.337\n",
       "2017-05-12    7.315\n",
       "2017-05-15    6.182\n",
       "Name: OilSeries, Length: 100, dtype: float64"
      ]
     },
     "execution_count": 70,
     "metadata": {},
     "output_type": "execute_result"
    }
   ],
   "source": [
    "max_diff"
   ]
  },
  {
   "cell_type": "code",
   "execution_count": 94,
   "id": "0836c719",
   "metadata": {},
   "outputs": [
    {
     "data": {
      "text/plain": [
       "0     12\n",
       "1     12\n",
       "2     12\n",
       "3     12\n",
       "4     12\n",
       "      ..\n",
       "95     5\n",
       "96     5\n",
       "97     5\n",
       "98     5\n",
       "99     5\n",
       "Name: date, Length: 100, dtype: int32"
      ]
     },
     "execution_count": 94,
     "metadata": {},
     "output_type": "execute_result"
    }
   ],
   "source": [
    "months = oil_series.index.str[5:7].astype(\"int\")\n",
    "pd.Series(months)"
   ]
  },
  {
   "cell_type": "code",
   "execution_count": 78,
   "id": "fb8eac50",
   "metadata": {},
   "outputs": [
    {
     "data": {
      "text/plain": [
       "Index(['2016-12-20', '2016-12-21', '2016-12-22', '2016-12-23', '2016-12-27',\n",
       "       '2016-12-28', '2016-12-29', '2016-12-30', '2017-01-03', '2017-01-04',\n",
       "       '2017-01-05', '2017-01-06', '2017-01-09', '2017-01-10', '2017-01-11',\n",
       "       '2017-01-12', '2017-01-13', '2017-01-17', '2017-01-18', '2017-01-19',\n",
       "       '2017-01-20', '2017-01-23', '2017-01-24', '2017-01-25', '2017-01-26',\n",
       "       '2017-01-27', '2017-01-30', '2017-01-31', '2017-02-01', '2017-02-02',\n",
       "       '2017-02-03', '2017-02-06', '2017-02-07', '2017-02-08', '2017-02-09',\n",
       "       '2017-02-10', '2017-02-13', '2017-02-14', '2017-02-15', '2017-02-16',\n",
       "       '2017-02-17', '2017-02-21', '2017-02-22', '2017-02-23', '2017-02-24',\n",
       "       '2017-02-27', '2017-02-28', '2017-03-01', '2017-03-02', '2017-03-03',\n",
       "       '2017-03-06', '2017-03-07', '2017-03-08', '2017-03-09', '2017-03-10',\n",
       "       '2017-03-13', '2017-03-14', '2017-03-15', '2017-03-16', '2017-03-17',\n",
       "       '2017-03-20', '2017-03-21', '2017-03-22', '2017-03-23', '2017-03-24',\n",
       "       '2017-03-27', '2017-03-28', '2017-03-29', '2017-03-30', '2017-03-31',\n",
       "       '2017-04-03', '2017-04-04', '2017-04-05', '2017-04-06', '2017-04-07',\n",
       "       '2017-04-10', '2017-04-11', '2017-04-12', '2017-04-13', '2017-04-17',\n",
       "       '2017-04-18', '2017-04-19', '2017-04-20', '2017-04-21', '2017-04-24',\n",
       "       '2017-04-25', '2017-04-26', '2017-04-27', '2017-04-28', '2017-05-01',\n",
       "       '2017-05-02', '2017-05-03', '2017-05-04', '2017-05-05', '2017-05-08',\n",
       "       '2017-05-09', '2017-05-10', '2017-05-11', '2017-05-12', '2017-05-15'],\n",
       "      dtype='object', name='date')"
      ]
     },
     "execution_count": 78,
     "metadata": {},
     "output_type": "execute_result"
    }
   ],
   "source": [
    "oil_series.index"
   ]
  },
  {
   "cell_type": "markdown",
   "id": "4735ed48",
   "metadata": {},
   "source": [
    "# Assignment 5: Series Aggregations\n",
    "\n",
    "* Calculate the sum and mean of prices in the month of March. \n",
    "\n",
    "* Next, calculate how many prices were recorded in January and February.\n",
    "\n",
    "* Then, calculate the 10th and 90th percentiles across all data.\n",
    "\n",
    "* Finally, how often did integer dollar value (e.g. 51, 52) occur in the data? Normalize this to a percentage.   "
   ]
  },
  {
   "cell_type": "code",
   "execution_count": 102,
   "id": "b7846132",
   "metadata": {},
   "outputs": [
    {
     "data": {
      "text/plain": [
       "1293.994"
      ]
     },
     "execution_count": 102,
     "metadata": {},
     "output_type": "execute_result"
    }
   ],
   "source": [
    "oil_series[oil_series.index.str[5:7] == \"03\"].sum()"
   ]
  },
  {
   "cell_type": "code",
   "execution_count": 106,
   "id": "2d0ea594",
   "metadata": {},
   "outputs": [
    {
     "data": {
      "text/plain": [
       "35"
      ]
     },
     "execution_count": 106,
     "metadata": {},
     "output_type": "execute_result"
    }
   ],
   "source": [
    "oil_series[oil_series.index.str[5:7].isin([\"01\", \"02\"])].nunique()"
   ]
  },
  {
   "cell_type": "code",
   "execution_count": 108,
   "id": "d220d35d",
   "metadata": {},
   "outputs": [
    {
     "data": {
      "text/plain": [
       "0.1    54.0289\n",
       "0.9    61.1921\n",
       "Name: OilSeries, dtype: float64"
      ]
     },
     "execution_count": 108,
     "metadata": {},
     "output_type": "execute_result"
    }
   ],
   "source": [
    "oil_series.quantile([0.1, 0.9])"
   ]
  },
  {
   "cell_type": "code",
   "execution_count": 118,
   "id": "a5082d8f",
   "metadata": {},
   "outputs": [
    {
     "data": {
      "text/plain": [
       "OilSeries\n",
       "60    22\n",
       "59    19\n",
       "61    14\n",
       "54    10\n",
       "55     9\n",
       "58     6\n",
       "57     6\n",
       "56     6\n",
       "53     5\n",
       "52     3\n",
       "Name: count, dtype: int64"
      ]
     },
     "execution_count": 118,
     "metadata": {},
     "output_type": "execute_result"
    }
   ],
   "source": [
    "oil_series.astype(\"int\").value_counts()"
   ]
  },
  {
   "cell_type": "code",
   "execution_count": null,
   "id": "fdbd3f03",
   "metadata": {},
   "outputs": [],
   "source": []
  },
  {
   "cell_type": "markdown",
   "id": "b81e8ab9",
   "metadata": {},
   "source": [
    "# Assignment 6: Missing Data\n",
    "\n",
    "There were some erroneous prices in our data, so they were filled in with missing values.\n",
    "\n",
    "Can you confirm the number of missing values in the price column? \n",
    "\n",
    "Once you’ve done that, fill the prices in with the median of the oil price series.\n"
   ]
  },
  {
   "cell_type": "code",
   "execution_count": 128,
   "id": "99d2fc2b-434b-41a1-b2ad-c6038165f253",
   "metadata": {},
   "outputs": [
    {
     "data": {
      "text/plain": [
       "date\n",
       "2016-12-20    59.442\n",
       "2016-12-21    58.584\n",
       "2016-12-22    59.178\n",
       "2016-12-23    59.211\n",
       "2016-12-27    60.102\n",
       "               ...  \n",
       "2017-05-09    52.424\n",
       "2017-05-10    54.008\n",
       "2017-05-11    54.591\n",
       "2017-05-12    54.613\n",
       "2017-05-15    55.746\n",
       "Name: OilSeries, Length: 100, dtype: float64"
      ]
     },
     "execution_count": 128,
     "metadata": {},
     "output_type": "execute_result"
    }
   ],
   "source": [
    "oil_series"
   ]
  },
  {
   "cell_type": "code",
   "execution_count": 134,
   "id": "6d5fdec5",
   "metadata": {
    "scrolled": true
   },
   "outputs": [],
   "source": [
    "# Fill in two values with missing data\n",
    "\n",
    "oil_series = oil_series.where(~oil_series.isin([54.613, 55.746]), pd.NA)"
   ]
  },
  {
   "cell_type": "code",
   "execution_count": 136,
   "id": "4c9fc3a5",
   "metadata": {},
   "outputs": [
    {
     "data": {
      "text/plain": [
       "2"
      ]
     },
     "execution_count": 136,
     "metadata": {},
     "output_type": "execute_result"
    }
   ],
   "source": [
    "oil_series.isna().sum()"
   ]
  },
  {
   "cell_type": "code",
   "execution_count": 138,
   "id": "1ec16104",
   "metadata": {
    "scrolled": true
   },
   "outputs": [
    {
     "data": {
      "text/plain": [
       "date\n",
       "2016-12-20    59.4420\n",
       "2016-12-21    58.5840\n",
       "2016-12-22    59.1780\n",
       "2016-12-23    59.2110\n",
       "2016-12-27    60.1020\n",
       "               ...   \n",
       "2017-05-09    52.4240\n",
       "2017-05-10    54.0080\n",
       "2017-05-11    54.5910\n",
       "2017-05-12    59.4255\n",
       "2017-05-15    59.4255\n",
       "Name: OilSeries, Length: 100, dtype: float64"
      ]
     },
     "execution_count": 138,
     "metadata": {},
     "output_type": "execute_result"
    }
   ],
   "source": [
    "oil_series.fillna(oil_series.median())\n"
   ]
  },
  {
   "cell_type": "markdown",
   "id": "19a0e70c",
   "metadata": {},
   "source": [
    "# Exercise 7: Apply and Where\n",
    "\n",
    "Write a function that outputs ‘buy’ if price is less than the 90th percentile and ‘wait’ if it’s not. Apply it to the oil series.\n",
    "\n",
    "Then, create a series that multiplies price by .9 if the date is ‘2016-12-23’ or ‘2017-05-10’, and 1.1 for all other dates. "
   ]
  },
  {
   "cell_type": "code",
   "execution_count": null,
   "id": "e508687c",
   "metadata": {},
   "outputs": [],
   "source": []
  },
  {
   "cell_type": "code",
   "execution_count": null,
   "id": "3496ec24",
   "metadata": {},
   "outputs": [],
   "source": []
  },
  {
   "cell_type": "code",
   "execution_count": null,
   "id": "feab5b7d",
   "metadata": {},
   "outputs": [],
   "source": []
  },
  {
   "cell_type": "code",
   "execution_count": null,
   "id": "6e9ec561",
   "metadata": {},
   "outputs": [],
   "source": []
  }
 ],
 "metadata": {
  "kernelspec": {
   "display_name": "Python 3 (ipykernel)",
   "language": "python",
   "name": "python3"
  },
  "language_info": {
   "codemirror_mode": {
    "name": "ipython",
    "version": 3
   },
   "file_extension": ".py",
   "mimetype": "text/x-python",
   "name": "python",
   "nbconvert_exporter": "python",
   "pygments_lexer": "ipython3",
   "version": "3.12.4"
  }
 },
 "nbformat": 4,
 "nbformat_minor": 5
}
